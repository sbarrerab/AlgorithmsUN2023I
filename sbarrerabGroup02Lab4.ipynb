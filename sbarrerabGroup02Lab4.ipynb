{
  "nbformat": 4,
  "nbformat_minor": 0,
  "metadata": {
    "colab": {
      "provenance": [],
      "include_colab_link": true
    },
    "kernelspec": {
      "name": "python3",
      "display_name": "Python 3"
    },
    "language_info": {
      "name": "python"
    }
  },
  "cells": [
    {
      "cell_type": "markdown",
      "metadata": {
        "id": "view-in-github",
        "colab_type": "text"
      },
      "source": [
        "<a href=\"https://colab.research.google.com/github/sbarrerab/AlgorithmsUN2023II/blob/main/sbarrerabGroup02Lab4.ipynb\" target=\"_parent\"><img src=\"https://colab.research.google.com/assets/colab-badge.svg\" alt=\"Open In Colab\"/></a>"
      ]
    },
    {
      "cell_type": "markdown",
      "metadata": {
        "id": "N1ok_-56OjB1"
      },
      "source": [
        "# I Solving the Sum of Two Digits Programming Challenge"
      ]
    },
    {
      "cell_type": "markdown",
      "metadata": {
        "id": "MMY7kmDSO0KM"
      },
      "source": [
        "## C++"
      ]
    },
    {
      "cell_type": "code",
      "metadata": {
        "colab": {
          "base_uri": "https://localhost:8080/"
        },
        "id": "2pGGf9BkPNIk",
        "outputId": "f5f4543e-191e-429c-9797-032337957ea6"
      },
      "source": [
        "%%writefile APlusB.cpp\n",
        "#include <iostream>\n",
        "\n",
        "int sum_of_two_digits(int first_digit, int second_digit) {\n",
        "    return first_digit + second_digit;\n",
        "}\n",
        "\n",
        "int main() {\n",
        "    int a = 0;\n",
        "    int b = 0;\n",
        "    std::cin >> a;\n",
        "    std::cin >> b;\n",
        "    std::cout << sum_of_two_digits(a, b);\n",
        "    return 0;\n",
        "}"
      ],
      "execution_count": null,
      "outputs": [
        {
          "output_type": "stream",
          "name": "stdout",
          "text": [
            "Overwriting APlusB.cpp\n"
          ]
        }
      ]
    },
    {
      "cell_type": "code",
      "metadata": {
        "colab": {
          "base_uri": "https://localhost:8080/"
        },
        "id": "0G3ZKOYAPXSU",
        "outputId": "aa101f2c-94bb-425e-9853-2deaae1927c3"
      },
      "source": [
        "!g++ APlusB.cpp -o APlusB\n",
        "!./APlusB"
      ],
      "execution_count": null,
      "outputs": [
        {
          "output_type": "stream",
          "name": "stdout",
          "text": [
            "2\n",
            "4\n",
            "6"
          ]
        }
      ]
    },
    {
      "cell_type": "markdown",
      "metadata": {
        "id": "iNkG2HqfTl9c"
      },
      "source": [
        "### Test input output files"
      ]
    },
    {
      "cell_type": "code",
      "metadata": {
        "colab": {
          "base_uri": "https://localhost:8080/"
        },
        "id": "aTzU2efzMxly",
        "outputId": "1f0767aa-1463-4002-8932-f6d3fb7e79c5"
      },
      "source": [
        "%%writefile input1.txt\n",
        "4 8"
      ],
      "execution_count": null,
      "outputs": [
        {
          "output_type": "stream",
          "name": "stdout",
          "text": [
            "Writing input1.txt\n"
          ]
        }
      ]
    },
    {
      "cell_type": "code",
      "metadata": {
        "colab": {
          "base_uri": "https://localhost:8080/"
        },
        "id": "zBJ0Gc0NQRet",
        "outputId": "7f548265-2ccc-4bd1-8184-51844a05b3fd"
      },
      "source": [
        "%%writefile output1.txt\n",
        "12"
      ],
      "execution_count": null,
      "outputs": [
        {
          "output_type": "stream",
          "name": "stdout",
          "text": [
            "Writing output1.txt\n"
          ]
        }
      ]
    },
    {
      "cell_type": "code",
      "metadata": {
        "colab": {
          "base_uri": "https://localhost:8080/"
        },
        "id": "IjEcIx63PJAN",
        "outputId": "693ec6c1-a57d-4e36-a4a6-a41a9e13a26a"
      },
      "source": [
        "%%writefile input2.txt\n",
        "-5 9"
      ],
      "execution_count": null,
      "outputs": [
        {
          "output_type": "stream",
          "name": "stdout",
          "text": [
            "Writing input2.txt\n"
          ]
        }
      ]
    },
    {
      "cell_type": "code",
      "metadata": {
        "colab": {
          "base_uri": "https://localhost:8080/"
        },
        "id": "Up9gOrxURTmd",
        "outputId": "688ad6b8-04fc-4f39-9aeb-b7088290421e"
      },
      "source": [
        "%%writefile output2.txt\n",
        "4"
      ],
      "execution_count": null,
      "outputs": [
        {
          "output_type": "stream",
          "name": "stdout",
          "text": [
            "Writing output2.txt\n"
          ]
        }
      ]
    },
    {
      "cell_type": "code",
      "metadata": {
        "colab": {
          "base_uri": "https://localhost:8080/"
        },
        "id": "PST6G-s-Pwgc",
        "outputId": "a5a9b0aa-a04a-4c9d-8bf8-fa1afc1fed18"
      },
      "source": [
        "!./APlusB < input1.txt"
      ],
      "execution_count": null,
      "outputs": [
        {
          "output_type": "stream",
          "name": "stdout",
          "text": [
            "12"
          ]
        }
      ]
    },
    {
      "cell_type": "code",
      "metadata": {
        "colab": {
          "base_uri": "https://localhost:8080/"
        },
        "id": "cKxZOjSlRfIN",
        "outputId": "34171c41-dc46-4853-9ed7-325b2df27d36"
      },
      "source": [
        "!./APlusB < input2.txt"
      ],
      "execution_count": null,
      "outputs": [
        {
          "output_type": "stream",
          "name": "stdout",
          "text": [
            "4"
          ]
        }
      ]
    },
    {
      "cell_type": "markdown",
      "metadata": {
        "id": "Qw2TQWCCUwqk"
      },
      "source": [
        "### Comparing files with grep\n",
        "\n",
        "https://askubuntu.com/questions/546796/comparing-two-text-files"
      ]
    },
    {
      "cell_type": "code",
      "metadata": {
        "id": "WVIaAmMKU4QM"
      },
      "source": [
        "!grep -xvFf output1.txt output1.txt"
      ],
      "execution_count": null,
      "outputs": []
    },
    {
      "cell_type": "code",
      "metadata": {
        "colab": {
          "base_uri": "https://localhost:8080/"
        },
        "id": "MQU8gPPjQuYO",
        "outputId": "3a24ba2b-1a81-47c8-ba98-3d91661343ec"
      },
      "source": [
        "!grep -xvFf output1.txt output2.txt"
      ],
      "execution_count": null,
      "outputs": [
        {
          "output_type": "stream",
          "name": "stdout",
          "text": [
            "4\n"
          ]
        }
      ]
    },
    {
      "cell_type": "code",
      "metadata": {
        "colab": {
          "base_uri": "https://localhost:8080/"
        },
        "id": "jYL9OuYBTD_l",
        "outputId": "ee0293ea-886b-40a7-c469-8676e300037b"
      },
      "source": [
        "!grep -xvFf output2.txt output1.txt"
      ],
      "execution_count": null,
      "outputs": [
        {
          "output_type": "stream",
          "name": "stdout",
          "text": [
            "12\n"
          ]
        }
      ]
    },
    {
      "cell_type": "code",
      "metadata": {
        "id": "Jlja0Xm4TX9M"
      },
      "source": [
        "!./APlusB < input1.txt> ctest1.txt\n",
        "!grep -xvFf output1.txt ctest1.txt"
      ],
      "execution_count": null,
      "outputs": []
    },
    {
      "cell_type": "code",
      "metadata": {
        "id": "g9OIUZA_QLCQ"
      },
      "source": [
        "!./APlusB < input2.txt > ctest2.txt\n",
        "!grep -xvFf output2.txt ctest2.txt"
      ],
      "execution_count": null,
      "outputs": []
    },
    {
      "cell_type": "markdown",
      "metadata": {
        "id": "3BgOaDjUVJk6"
      },
      "source": [
        "## Python"
      ]
    },
    {
      "cell_type": "code",
      "metadata": {
        "colab": {
          "base_uri": "https://localhost:8080/"
        },
        "id": "DBvl-T0CTN_8",
        "outputId": "7adef4ab-087e-48ae-afc3-7152f72c15a2"
      },
      "source": [
        "%%writefile sum.py\n",
        "# python3\n",
        "\n",
        "def sum_of_two_digits(first_digit, second_digit):\n",
        "    return first_digit + second_digit\n",
        "\n",
        "if __name__ == '__main__':\n",
        "    a, b = map(int, input().split())\n",
        "    print(sum_of_two_digits(a, b))"
      ],
      "execution_count": null,
      "outputs": [
        {
          "output_type": "stream",
          "name": "stdout",
          "text": [
            "Writing sum.py\n"
          ]
        }
      ]
    },
    {
      "cell_type": "code",
      "metadata": {
        "colab": {
          "base_uri": "https://localhost:8080/"
        },
        "id": "QKoKM11_WGyF",
        "outputId": "d1cb7eaa-d227-4a6d-ffca-85e5885caeff"
      },
      "source": [
        "!python sum.py"
      ],
      "execution_count": null,
      "outputs": [
        {
          "output_type": "stream",
          "name": "stdout",
          "text": [
            "23 45\n",
            "68\n"
          ]
        }
      ]
    },
    {
      "cell_type": "code",
      "metadata": {
        "id": "cocFbPRTWrqt"
      },
      "source": [
        "!python sum.py  < input1.txt> ptest1.txt\n",
        "!grep -xvFf output1.txt ptest1.txt"
      ],
      "execution_count": null,
      "outputs": []
    },
    {
      "cell_type": "code",
      "metadata": {
        "id": "MorKTa-XXASN"
      },
      "source": [
        "!python sum.py  < input2.txt> ptest2.txt\n",
        "!grep -xvFf output2.txt ptest2.txt"
      ],
      "execution_count": null,
      "outputs": []
    },
    {
      "cell_type": "markdown",
      "metadata": {
        "id": "uvP-mOubW_5F"
      },
      "source": [
        "# II Solving The Maximum Pairwise Product Programming Challenge in C++"
      ]
    },
    {
      "cell_type": "markdown",
      "metadata": {
        "id": "C12yoFR6Xonl"
      },
      "source": [
        "## C++"
      ]
    },
    {
      "cell_type": "code",
      "metadata": {
        "colab": {
          "base_uri": "https://localhost:8080/"
        },
        "id": "YL4qJX3tXxdd",
        "outputId": "b1ef2d2a-c3e0-43da-8e7b-2b380e96b056"
      },
      "source": [
        "%%writefile max_pairwise_product.cpp\n",
        "#include <iostream>\n",
        "#include <vector>\n",
        "#include <algorithm>\n",
        "\n",
        "int MaxPairwiseProduct(const std::vector<int>& numbers) {\n",
        "    int max_product = 0;\n",
        "    int n = numbers.size();\n",
        "\n",
        "    for (int first = 0; first < n; ++first) {\n",
        "        for (int second = first + 1; second < n; ++second) {\n",
        "            max_product = std::max(max_product,\n",
        "                numbers[first] * numbers[second]);\n",
        "        }\n",
        "    }\n",
        "\n",
        "    return max_product;\n",
        "}\n",
        "\n",
        "int main() {\n",
        "    int n;\n",
        "    std::cin >> n;\n",
        "    std::vector<int> numbers(n);\n",
        "    for (int i = 0; i < n; ++i) {\n",
        "        std::cin >> numbers[i];\n",
        "    }\n",
        "\n",
        "    std::cout << MaxPairwiseProduct(numbers) << \"\\n\";\n",
        "    return 0;\n",
        "}\n"
      ],
      "execution_count": null,
      "outputs": [
        {
          "output_type": "stream",
          "name": "stdout",
          "text": [
            "Writing max_pairwise_product.cpp\n"
          ]
        }
      ]
    },
    {
      "cell_type": "code",
      "metadata": {
        "colab": {
          "base_uri": "https://localhost:8080/"
        },
        "id": "KGxaEjvWX__O",
        "outputId": "168bd1e5-877f-43d9-b320-848dd60bf034"
      },
      "source": [
        "!g++ max_pairwise_product.cpp -o max_pairwise_product\n",
        "!./max_pairwise_product"
      ],
      "execution_count": null,
      "outputs": [
        {
          "output_type": "stream",
          "name": "stdout",
          "text": [
            "4\n",
            "2\n",
            "3\n",
            "3\n",
            "-3\n",
            "9\n"
          ]
        }
      ]
    },
    {
      "cell_type": "markdown",
      "metadata": {
        "id": "e7KhxHGNS3i0"
      },
      "source": [
        "### Test 1: Small numbers"
      ]
    },
    {
      "cell_type": "code",
      "metadata": {
        "colab": {
          "base_uri": "https://localhost:8080/"
        },
        "id": "e1mmTzBgShT-",
        "outputId": "af8814ec-7358-452d-e16d-f95923565027"
      },
      "source": [
        "%%writefile input1.txt\n",
        "10\n",
        "1 2 3 4 5 6 7 8 9 10"
      ],
      "execution_count": null,
      "outputs": [
        {
          "output_type": "stream",
          "name": "stdout",
          "text": [
            "Writing input1.txt\n"
          ]
        }
      ]
    },
    {
      "cell_type": "code",
      "metadata": {
        "colab": {
          "base_uri": "https://localhost:8080/"
        },
        "id": "vy_uI0x7TCId",
        "outputId": "ef7f08a3-7024-40ed-88f0-8fc7c4e03e99"
      },
      "source": [
        "!./max_pairwise_product < input1.txt"
      ],
      "execution_count": null,
      "outputs": [
        {
          "output_type": "stream",
          "name": "stdout",
          "text": [
            "90\n"
          ]
        }
      ]
    },
    {
      "cell_type": "markdown",
      "metadata": {
        "id": "IeZ3kTjpYmR9"
      },
      "source": [
        "### Test 2: largest input numbers 200000 200000 in the input"
      ]
    },
    {
      "cell_type": "code",
      "metadata": {
        "colab": {
          "base_uri": "https://localhost:8080/"
        },
        "id": "LQNlZqaqYt7U",
        "outputId": "08de9c9f-f513-4e6b-ce9e-a53d61e58698"
      },
      "source": [
        "%%writefile input2.txt\n",
        "6\n",
        "1 3 200000 9 200000 23"
      ],
      "execution_count": null,
      "outputs": [
        {
          "output_type": "stream",
          "name": "stdout",
          "text": [
            "Writing input2.txt\n"
          ]
        }
      ]
    },
    {
      "cell_type": "code",
      "metadata": {
        "colab": {
          "base_uri": "https://localhost:8080/"
        },
        "id": "2Wad2VZUZDxR",
        "outputId": "29d0d26f-5dce-43fe-8718-626a29dfcf93"
      },
      "source": [
        "!./max_pairwise_product < input2.txt"
      ],
      "execution_count": null,
      "outputs": [
        {
          "output_type": "stream",
          "name": "stdout",
          "text": [
            "1345294336\n"
          ]
        }
      ]
    },
    {
      "cell_type": "markdown",
      "metadata": {
        "id": "H2SC0Qt5HCzz"
      },
      "source": [
        "Changing the variables to long long"
      ]
    },
    {
      "cell_type": "code",
      "metadata": {
        "colab": {
          "base_uri": "https://localhost:8080/"
        },
        "id": "MPcmsxiQZSfE",
        "outputId": "0e2bbdc7-e38d-46a8-825a-508c2ca917a5"
      },
      "source": [
        "%%writefile max_pairwise_product_long.cpp\n",
        "#include <iostream>\n",
        "#include <vector>\n",
        "#include <algorithm>\n",
        "\n",
        "long long MaxPairwiseProduct(const std::vector<int>& numbers) {\n",
        "    long long max_product = 0LL;\n",
        "\t  long long aux_product = 0LL;\n",
        "    int n = numbers.size();\n",
        "\n",
        "    for (int first = 0; first < n; ++first) {\n",
        "        for (int second = first + 1; second < n; ++second) {\n",
        "\t\t\t       aux_product =  (long long) numbers[first] * numbers[second];\n",
        "            if ( max_product < aux_product)  {\n",
        "\t\t\t\t        max_product = aux_product;\n",
        "             }\n",
        "        }\n",
        "    }\n",
        "\n",
        "    return max_product;\n",
        "}\n",
        "\n",
        "int main() {\n",
        "    int n;\n",
        "    std::cin >> n;\n",
        "    std::vector<int> numbers(n);\n",
        "    for (int i = 0; i < n; ++i) {\n",
        "        std::cin >> numbers[i];\n",
        "    }\n",
        "\n",
        "    std::cout << MaxPairwiseProduct(numbers) << \"\\n\";\n",
        "    return 0;\n",
        "}\n"
      ],
      "execution_count": null,
      "outputs": [
        {
          "output_type": "stream",
          "name": "stdout",
          "text": [
            "Writing max_pairwise_product_long.cpp\n"
          ]
        }
      ]
    },
    {
      "cell_type": "code",
      "metadata": {
        "colab": {
          "base_uri": "https://localhost:8080/"
        },
        "id": "I5pCeOG1Zm7s",
        "outputId": "51ff5656-0391-4564-d288-baff4186d386"
      },
      "source": [
        "!g++ max_pairwise_product_long.cpp -o max_pairwise_product_long\n",
        "!./max_pairwise_product_long < input1.txt\n",
        "!./max_pairwise_product_long < input2.txt"
      ],
      "execution_count": null,
      "outputs": [
        {
          "output_type": "stream",
          "name": "stdout",
          "text": [
            "90\n",
            "40000000000\n"
          ]
        }
      ]
    },
    {
      "cell_type": "markdown",
      "metadata": {
        "id": "XPVHkHxH6_7s"
      },
      "source": [
        "### Test 3  stress tests 20  times  random n in [2, 20]"
      ]
    },
    {
      "cell_type": "code",
      "metadata": {
        "id": "PwqpBmYr69fu",
        "outputId": "ce3ab988-6f63-4504-e17c-17a91dc16503",
        "colab": {
          "base_uri": "https://localhost:8080/"
        }
      },
      "source": [
        "%%writefile input3.txt\n",
        "20"
      ],
      "execution_count": null,
      "outputs": [
        {
          "output_type": "stream",
          "name": "stdout",
          "text": [
            "Overwriting input3.txt\n"
          ]
        }
      ]
    },
    {
      "cell_type": "code",
      "source": [
        "%%writefile random_stress_test.cpp\n",
        "#include <iostream>\n",
        "#include <cstdlib>\n",
        "#include <ctime>\n",
        "\n",
        "using namespace std;\n",
        "\n",
        "int main() {\n",
        "    int n;\n",
        "    cin >> n; // If you want 20, put 20\n",
        "\n",
        "    // Seed the random number generator\n",
        "    srand(time(NULL));\n",
        "\n",
        "    // Generate n random numbers and write them to the output file\n",
        "    for (int i = 0; i < n; i++) {\n",
        "        int num = rand() % 19 + 2;\n",
        "        cout << num << endl;\n",
        "    }\n",
        "\n",
        "    return 0;\n",
        "}\n"
      ],
      "metadata": {
        "id": "93K2vDUUGFD3",
        "outputId": "9ebc078b-e65f-4320-918c-e5a3f1860b64",
        "colab": {
          "base_uri": "https://localhost:8080/"
        }
      },
      "execution_count": null,
      "outputs": [
        {
          "output_type": "stream",
          "name": "stdout",
          "text": [
            "Writing random_stress_test.cpp\n"
          ]
        }
      ]
    },
    {
      "cell_type": "code",
      "source": [
        "!g++ random_stress_test.cpp -o random_stress_test\n",
        "!./random_stress_test < input3.txt"
      ],
      "metadata": {
        "id": "eHEm7bBrH2Tc",
        "outputId": "6b1d4f71-fa72-4d15-9ba2-b06f4f1a3c03",
        "colab": {
          "base_uri": "https://localhost:8080/"
        }
      },
      "execution_count": null,
      "outputs": [
        {
          "output_type": "stream",
          "name": "stdout",
          "text": [
            "2\n",
            "18\n",
            "2\n",
            "16\n",
            "16\n",
            "2\n",
            "19\n",
            "7\n",
            "18\n",
            "13\n",
            "9\n",
            "20\n",
            "14\n",
            "7\n",
            "8\n",
            "12\n",
            "18\n",
            "13\n",
            "8\n",
            "7\n"
          ]
        }
      ]
    },
    {
      "cell_type": "markdown",
      "metadata": {
        "id": "9z9yr5QkeyJF"
      },
      "source": [
        "### Test 4  time test  measure the execution time running with the the largest worst case file (200000 increasing numbers, 200000 and 200000 the end)"
      ]
    },
    {
      "cell_type": "code",
      "metadata": {
        "id": "oLiMjbAIfPlX",
        "colab": {
          "base_uri": "https://localhost:8080/"
        },
        "outputId": "3c504894-08fd-4043-98a2-a0b643c8d925"
      },
      "source": [
        "%%writefile Test2Write.cpp\n",
        "\n",
        "#include <iostream>\n",
        "#include <fstream>\n",
        "#include <cstdlib>\n",
        "\n",
        "using namespace std;\n",
        "\n",
        "int main() {\n",
        "  // Create and open a text file\n",
        "  ofstream MyFile(\"input3.txt\");\n",
        "\n",
        " MyFile << 200000 <<\"\\n\";  // n\n",
        " for (int i=1; i < 200001; i++){\n",
        "     MyFile << i <<\" \";\n",
        " }\n",
        "\n",
        "  // Close the file\n",
        "  MyFile.close();\n",
        "}"
      ],
      "execution_count": null,
      "outputs": [
        {
          "output_type": "stream",
          "name": "stdout",
          "text": [
            "Writing Test2Write.cpp\n"
          ]
        }
      ]
    },
    {
      "cell_type": "code",
      "metadata": {
        "id": "EH25TkOkZfD9"
      },
      "source": [
        "!g++ Test2Write.cpp -o Test2Write\n",
        "!./Test2Write"
      ],
      "execution_count": null,
      "outputs": []
    },
    {
      "cell_type": "markdown",
      "metadata": {
        "id": "JB6f03qO-lj9"
      },
      "source": [
        "Measure time\n",
        "\n",
        "https://askubuntu.com/questions/53444/how-can-i-measure-the-execution-time-of-a-terminal-process"
      ]
    },
    {
      "cell_type": "code",
      "metadata": {
        "colab": {
          "base_uri": "https://localhost:8080/"
        },
        "id": "6p2QLEr576zk",
        "outputId": "3168b40b-e796-426c-a474-4dcb81dcd956"
      },
      "source": [
        "!g++ max_pairwise_product_long.cpp -o max_pairwise_product_long\n",
        "!time ./max_pairwise_product_long < input3.txt"
      ],
      "execution_count": null,
      "outputs": [
        {
          "output_type": "stream",
          "name": "stdout",
          "text": [
            "39999800000\n",
            "\n",
            "real\t1m34.474s\n",
            "user\t1m33.882s\n",
            "sys\t0m0.040s\n"
          ]
        }
      ]
    },
    {
      "cell_type": "markdown",
      "metadata": {
        "id": "AmZeB2wYjxy5"
      },
      "source": [
        "##### Calculate  the number of instructions executed by the algorithm as a function of n, add in each line a comment with the number of instructions that are executed in that line\n",
        "\n",
        "```cpp\n",
        " int main() {                         //N inst exec by line executed  \n",
        "   \n",
        "    int n;                            //1                      \n",
        "    std::cin >> n;                    //1\n",
        "                                              \n",
        "    std::vector<int> numbers(n);      //n    init vector\n",
        "    .\n",
        "    .\n",
        " }\n",
        "\n",
        "```"
      ]
    },
    {
      "cell_type": "code",
      "metadata": {
        "colab": {
          "base_uri": "https://localhost:8080/"
        },
        "id": "djGX3FL13g9b",
        "outputId": "270176eb-1660-419e-de67-2c8f8c3c7f74"
      },
      "source": [
        "%%writefile test_init_vectors.cpp\n",
        "#include <iostream>\n",
        "#include <vector>\n",
        "#include <algorithm>\n",
        "int main() {\n",
        "    int n = 10;                                                                                                                            //1\n",
        "    std::vector<int> numbers(n);\n",
        "    for (int i = 0; i < n; ++i) {\n",
        "        std::cout << numbers[i];\n",
        "    }\n",
        "\n",
        "    std::cout << \"\\n\";\n",
        "    return 0;\n",
        "}"
      ],
      "execution_count": null,
      "outputs": [
        {
          "output_type": "stream",
          "text": [
            "Overwriting test_init_vectors.cpp\n"
          ],
          "name": "stdout"
        }
      ]
    },
    {
      "cell_type": "code",
      "metadata": {
        "colab": {
          "base_uri": "https://localhost:8080/"
        },
        "id": "44gZcuE237-1",
        "outputId": "7f5f9c2a-bed0-4223-ee39-3290f70db610"
      },
      "source": [
        "!g++ test_init_vectors.cpp -o test_init_vectors\n",
        "!./test_init_vectors"
      ],
      "execution_count": null,
      "outputs": [
        {
          "output_type": "stream",
          "text": [
            "0000000000\n"
          ],
          "name": "stdout"
        }
      ]
    },
    {
      "cell_type": "code",
      "metadata": {
        "colab": {
          "base_uri": "https://localhost:8080/"
        },
        "id": "uG6Mv-Pwlkii",
        "outputId": "8b4b2a48-2fc3-4feb-81ab-088e183a49f5"
      },
      "source": [
        "%%writefile max_pairwise_product_long.cpp\n",
        "#include <iostream>\n",
        "#include <vector>\n",
        "#include <algorithm>\n",
        "\n",
        "long long MaxPairwiseProduct(const std::vector<int>& numbers) {              //N inst exec by line executed\n",
        "    long long max_product = 0LL;                                             //1\n",
        "\t  long long aux_product = 0LL;                                             //1\n",
        "    int n = numbers.size();                                                  //1\n",
        "\n",
        "    for (int first = 0; first < n; ++first) {                                //1+2n\n",
        "        for (int second = first + 1; second < n; ++second) {                 //n + (n-1)n\n",
        "\t\t\t       aux_product =  (long long) numbers[first] * numbers[second];    //(n-1)n/2\n",
        "            if (max_product < aux_product)  {                                //(n-1)n/2\n",
        "\t\t\t\t        max_product = aux_product;                                   //[0, (n-1)n/2]\n",
        "             }\n",
        "        }\n",
        "    }\n",
        "                                                                             // --------------\n",
        "    return max_product;                                                      // 4 + 3n + [2(n-1)n, 2.5 (n-1)n]\n",
        "}\n",
        "\n",
        "int main() {                                              //N inst exec by line executed\n",
        "    int n;                                                //1\n",
        "    std::cin >> n;                                        //1\n",
        "    std::vector<int> numbers(n);                          //n\n",
        "    for (int i = 0; i < n; ++i) {                         //1 + 2n\n",
        "        std::cin >> numbers[i];                           //n\n",
        "    }\n",
        "\n",
        "    std::cout << MaxPairwiseProduct(numbers) << \"\\n\";     //1 + 1  + 4 + 3n + [2(n-1)n, 2.5 (n-1)n]\n",
        "    return 0;                                             // --------------\n",
        "}                                                         // 9 + 7n + [2(n-1)n, 2.5 (n-1)n]\n"
      ],
      "execution_count": null,
      "outputs": [
        {
          "output_type": "stream",
          "text": [
            "Overwriting max_pairwise_product_long.cpp\n"
          ],
          "name": "stdout"
        }
      ]
    },
    {
      "cell_type": "markdown",
      "metadata": {
        "id": "0vTsUg8OwcHs"
      },
      "source": [
        "Count executed intructions in code and verify with inputs 1, 2 and 3"
      ]
    },
    {
      "cell_type": "code",
      "metadata": {
        "colab": {
          "base_uri": "https://localhost:8080/"
        },
        "id": "CuRKkqQc137V",
        "outputId": "58b72004-01f8-4734-96f8-5ff1a32cdd31"
      },
      "source": [
        "%%writefile max_pairwise_product_long_execints.cpp\n",
        "#include <iostream>\n",
        "#include <vector>\n",
        "#include <algorithm>\n",
        "\n",
        "long long MaxPairwiseProduct(const std::vector<int>& numbers, long long &execints) {              //N inst exec by line executed\n",
        "\n",
        "    long long m = 0LL;                                                       //1\n",
        "\n",
        "    long long max_product = 0LL;                                             //1\n",
        "    execints++;\n",
        "\n",
        "\t  long long aux_product = 0LL;                                             //1\n",
        "    execints++;\n",
        "\n",
        "    int n = numbers.size();                                                  //1\n",
        "    execints++;\n",
        "\n",
        "    execints++;\n",
        "    for (int first = 0; first < n; ++first) {                                //1+2n\n",
        "        execints += 2;\n",
        "\n",
        "        long long m = 0LL;\n",
        "\n",
        "        execints++;\n",
        "        for (int second = first + 1; second < n; ++second) {                 //n+ (n-1)n\n",
        "            execints += 2;\n",
        "\n",
        "\t\t\t      aux_product =  (long long) numbers[first] * numbers[second];    //(n-1)n/2\n",
        "            execints++;\n",
        "\n",
        "            execints++;\n",
        "            if ( max_product < aux_product)  {                               //(n-1)n/2\n",
        "\n",
        "\t\t\t\t        max_product = aux_product;                                   //[0, (n-1)n/2]\n",
        "                execints++;\n",
        "                m++;\n",
        "             }\n",
        "        }\n",
        "        if ( (first <= 10) || (n- first <= 10)) std::cout << m << \"\\n\";\n",
        "    }\n",
        "                                                                            // --------------\n",
        "    return max_product;                                                     // 4 + 3n + [2(n-1)n, 2.5 (n-1)n]\n",
        "}\n",
        "\n",
        "int main() {                                                 //N inst exec by line executed\n",
        "    long long execints =0LL;\n",
        "\n",
        "    int n;                                                   //1\n",
        "    execints++;\n",
        "\n",
        "    std::cin >> n;                                           //1\n",
        "    execints++;\n",
        "\n",
        "    std::vector<int> numbers(n);                             //n\n",
        "    execints += n;\n",
        "\n",
        "    execints++;\n",
        "    for (int i = 0; i < n; ++i) {                            //1 + 2n\n",
        "        execints += 2;\n",
        "\n",
        "        std::cin >> numbers[i];\n",
        "        execints++;                                          //n\n",
        "    }\n",
        "\n",
        "    //std::cout << MaxPairwiseProduct(numbers) << \"\\n\";      //1 + 1  + 4 + 3n + [2(n-1)n, 2.5 (n-1)n]\n",
        "\n",
        "    execints++;\n",
        "    int M = MaxPairwiseProduct(numbers,execints);\n",
        "\n",
        "    execints++;\n",
        "    std::cout <<  execints << \"\\n\";\n",
        "    return 0;                                                // --------------\n",
        "}                                                            // 9 + 7n + [2(n-1)n, 2.5 (n-1)n]"
      ],
      "execution_count": null,
      "outputs": [
        {
          "output_type": "stream",
          "text": [
            "Overwriting max_pairwise_product_long_execints.cpp\n"
          ],
          "name": "stdout"
        }
      ]
    },
    {
      "cell_type": "code",
      "metadata": {
        "colab": {
          "base_uri": "https://localhost:8080/"
        },
        "id": "Kuvm1C05ly2a",
        "outputId": "f8e2f872-e7d9-4732-acb4-5ffe2e6568d1"
      },
      "source": [
        "!g++ max_pairwise_product_long_execints.cpp -o max_pairwise_product_long_execints\n",
        "!./max_pairwise_product_long_execints < input1.txt\n",
        "!./max_pairwise_product_long_execints < input2.txt\n",
        "!./max_pairwise_product_long_execints < input3.txt"
      ],
      "execution_count": null,
      "outputs": [
        {
          "output_type": "stream",
          "text": [
            "9\n",
            "5\n",
            "4\n",
            "3\n",
            "2\n",
            "2\n",
            "2\n",
            "2\n",
            "1\n",
            "0\n",
            "289\n",
            "2\n",
            "1\n",
            "2\n",
            "0\n",
            "0\n",
            "0\n",
            "116\n",
            "199999\n",
            "100000\n",
            "66667\n",
            "50000\n",
            "40000\n",
            "33334\n",
            "28572\n",
            "25000\n",
            "22223\n",
            "20000\n",
            "18182\n",
            "2\n",
            "2\n",
            "2\n",
            "2\n",
            "2\n",
            "2\n",
            "2\n",
            "2\n",
            "1\n",
            "0\n",
            "80003672077\n"
          ],
          "name": "stdout"
        }
      ]
    },
    {
      "cell_type": "markdown",
      "metadata": {
        "id": "L_uaamxeAHK7"
      },
      "source": [
        "The number of instructions executed by the algooirithm with a list of size $n$ is  \n",
        "\n",
        "$$T = 9 + 7n + [2(n-1)n, 2.5 (n-1)n]$$\n",
        "\n",
        "It depends on the size of the lists and  the order of the list.\n",
        "\n",
        "For the input1.txt\n",
        "```\n",
        "10\n",
        "1 2 3 4 5 6 7 8 9 10\n",
        "```\n",
        "$$T = 9 + 7(10) + 2(9)(10) +  9 + 5 + 4 + 3 + 2 + 2 + 2 + 2 + 1 + 0  = 289 $$\n",
        "\n",
        "For the input2.txt\n",
        "```\n",
        "6\n",
        "1 3 200000 9 200000 23\n",
        "```\n",
        "$$T = 9 + 7(6) + 2(5)(6)  +  2 + 1 + 2 + 0 + 0 + 0 = 116 $$\n",
        "\n",
        "\n",
        "For the input3.txt that is the worst case (n=200000 and list in incresing order)\n",
        "\n",
        "```\n",
        "200000\n",
        "1 2 3 4 5 6 7 8 9 10 ... 199998 199999 200000\n",
        "```\n",
        "\n",
        "$$\n",
        "\\begin{array}{ll}\n",
        "T &= 9 + 7(200000) + (2)(199999)(200000)  + (199999 +\n",
        "100000 + 66667 +50000 \\cdots 2 + 2 + 1)\\\\\n",
        "&= 80003672077  \\\\\n",
        "  &< 9 + 7(200000) + (2.5)(199999)(200000) \\\\\n",
        "  & = 100000900009\n",
        "\\end{array}\n",
        "  $$"
      ]
    },
    {
      "cell_type": "markdown",
      "metadata": {
        "id": "NXW7QkoBL6xH"
      },
      "source": [
        "Calculate estimated time by instruction and number of instructions by second"
      ]
    },
    {
      "cell_type": "code",
      "metadata": {
        "colab": {
          "base_uri": "https://localhost:8080/"
        },
        "id": "pKqB3i7dIxnc",
        "outputId": "cec850f5-16e3-4cd6-bf9b-6f5f2fd7b076"
      },
      "source": [
        "# Estimated time by instruction\n",
        "\n",
        "128/80003672077\n"
      ],
      "execution_count": null,
      "outputs": [
        {
          "output_type": "execute_result",
          "data": {
            "text/plain": [
              "1.5999265618308827e-09"
            ]
          },
          "metadata": {
            "tags": []
          },
          "execution_count": 34
        }
      ]
    },
    {
      "cell_type": "code",
      "metadata": {
        "colab": {
          "base_uri": "https://localhost:8080/"
        },
        "id": "18N1ouqeMhE1",
        "outputId": "d7d4d1bf-b899-4c01-8ecb-e30da3ae6468"
      },
      "source": [
        "# Estimated number of instructions by second\n",
        "\n",
        "1/(128/80003672077)"
      ],
      "execution_count": null,
      "outputs": [
        {
          "output_type": "execute_result",
          "data": {
            "text/plain": [
              "625028688.1015625"
            ]
          },
          "metadata": {
            "tags": []
          },
          "execution_count": 35
        }
      ]
    },
    {
      "cell_type": "markdown",
      "metadata": {
        "id": "CQufozXLNJwO"
      },
      "source": [
        "### Efficient solution"
      ]
    },
    {
      "cell_type": "markdown",
      "metadata": {
        "id": "nLcKBwbU0QsE"
      },
      "source": [
        "Add in each line a coment with the number of intstrcution that are executed in that line"
      ]
    },
    {
      "cell_type": "code",
      "metadata": {
        "id": "knls5Fh3NSt_",
        "colab": {
          "base_uri": "https://localhost:8080/"
        },
        "outputId": "bf073a06-f285-46e6-bfed-b1f66c3ede74"
      },
      "source": [
        "                                                  #Número de pasos\n",
        "def max_pairwise_product(numbers):                #1\n",
        "  n = len(numbers)                                #1\n",
        "  numeroMasGrande = 0                             #1\n",
        "  segundoNumeroMasGrande = 0                      #1\n",
        "  for i in range(n):                              #n\n",
        "    if(numbers[i] > numeroMasGrande):             #n+1\n",
        "      segundoNumeroMasGrande = numeroMasGrande    #n\n",
        "      numeroMasGrande = numbers[i]                #n\n",
        "    elif(numbers[i] > segundoNumeroMasGrande):    #n\n",
        "      segundoNumeroMasGrande = numbers[i]         #n\n",
        "    else:                                         #1\n",
        "      continue                                    #n\n",
        "  return numeroMasGrande * segundoNumeroMasGrande #1\n",
        "                                                  #------------------\n",
        "                                          #TOTAL  4n+5\n",
        "                                          #Compeljidad O(n)\n",
        "\n",
        "if __name__ == '__main__':\n",
        "  _ = int(input())\n",
        "  input_numbers = list(map(int, input().split()))\n",
        "  print(max_pairwise_product(input_numbers))"
      ],
      "execution_count": null,
      "outputs": [
        {
          "output_type": "stream",
          "name": "stdout",
          "text": [
            "4\n",
            "4 5 8 3\n",
            "40\n"
          ]
        }
      ]
    },
    {
      "cell_type": "code",
      "source": [
        "#include <stdio.h>\n",
        "#include <stdlib.h>\n",
        "\n",
        "int max_pairwise_product(int* numbers, int n) {\n",
        "  int numeroMasGrande = 0;\n",
        "  int segundoNumeroMasGrande = 0;\n",
        "  for (int i = 0; i < n; i++) {\n",
        "    if(numbers[i] > numeroMasGrande) {\n",
        "      segundoNumeroMasGrande = numeroMasGrande;\n",
        "      numeroMasGrande = numbers[i];\n",
        "    } else if(numbers[i] > segundoNumeroMasGrande) {\n",
        "      segundoNumeroMasGrande = numbers[i];\n",
        "    } else {\n",
        "      continue;\n",
        "    }\n",
        "  }\n",
        "  return numeroMasGrande * segundoNumeroMasGrande;\n",
        "}\n",
        "\n",
        "int main() {\n",
        "  int n;\n",
        "  scanf(\"%d\", &n);\n",
        "  int* input_numbers = malloc(sizeof(int) * n);\n",
        "  for (int i = 0; i < n; i++) {\n",
        "    scanf(\"%d\", &input_numbers[i]);\n",
        "  }\n",
        "  printf(\"%d\\n\", max_pairwise_product(input_numbers, n));\n",
        "  free(input_numbers);\n",
        "  return 0;\n",
        "}"
      ],
      "metadata": {
        "id": "udqSu8Lg6Kqq"
      },
      "execution_count": null,
      "outputs": []
    },
    {
      "cell_type": "markdown",
      "source": [
        "Test with inputs 1 and 2"
      ],
      "metadata": {
        "id": "DOD8BMx-W2yk"
      }
    },
    {
      "cell_type": "code",
      "source": [
        "%%writefile input1.txt\n",
        "10\n",
        "1 2 3 4 5 6 7 8 9 10"
      ],
      "metadata": {
        "colab": {
          "base_uri": "https://localhost:8080/"
        },
        "id": "M3JSZja_ok-M",
        "outputId": "db55383d-386d-47e7-b0f9-dfface806b58"
      },
      "execution_count": null,
      "outputs": [
        {
          "output_type": "stream",
          "name": "stdout",
          "text": [
            "Writing input1.txt\n"
          ]
        }
      ]
    },
    {
      "cell_type": "code",
      "source": [
        "%%writefile input2.txt\n",
        "6\n",
        "1 3 200000 9 200000 23"
      ],
      "metadata": {
        "colab": {
          "base_uri": "https://localhost:8080/"
        },
        "id": "hsZTdgLeolzr",
        "outputId": "f547bbba-a2bc-4ee4-f34b-e5d8f3e1b758"
      },
      "execution_count": null,
      "outputs": [
        {
          "output_type": "stream",
          "name": "stdout",
          "text": [
            "Writing input2.txt\n"
          ]
        }
      ]
    },
    {
      "cell_type": "code",
      "source": [
        "def main(file):\n",
        "  with open(file, 'r') as f:\n",
        "    lineas = [linea.split() for linea in f]\n",
        "    for linea in lineas:\n",
        "      for i in range(len(linea)):\n",
        "        linea[i] = int(linea[i])\n",
        "    print(max_pairwise_product(lineas[1]))"
      ],
      "metadata": {
        "id": "dHZRUsoLUyqd"
      },
      "execution_count": null,
      "outputs": []
    },
    {
      "cell_type": "code",
      "source": [
        "#include <stdio.h>\n",
        "#include <stdlib.h>\n",
        "#include <string.h>\n",
        "\n",
        "int max_pairwise_product(int* numbers, int n) {\n",
        "  int numeroMasGrande = 0;\n",
        "  int segundoNumeroMasGrande = 0;\n",
        "  for (int i = 0; i < n; i++) {\n",
        "    if (numbers[i] > numeroMasGrande) {\n",
        "      segundoNumeroMasGrande = numeroMasGrande;\n",
        "      numeroMasGrande = numbers[i];\n",
        "    } else if (numbers[i] > segundoNumeroMasGrande) {\n",
        "      segundoNumeroMasGrande = numbers[i];\n",
        "    } else {\n",
        "      continue;\n",
        "    }\n",
        "  }\n",
        "  return numeroMasGrande * segundoNumeroMasGrande;\n",
        "}\n",
        "\n",
        "int main(int argc, char *argv[]) {\n",
        "  char* file = argv[1];\n",
        "  FILE *f = fopen(file, \"r\");\n",
        "  if (f == NULL) {\n",
        "    printf(\"Error al abrir el archivo de entrada\\n\");\n",
        "    return 1;\n",
        "  }\n",
        "\n",
        "  int max_length = 100;\n",
        "  char buffer[max_length];\n",
        "  int numbers[max_length];\n",
        "  while (fgets(buffer, max_length, f)) {\n",
        "    int n = 0;\n",
        "    char* token = strtok(buffer, \" \");\n",
        "    while (token != NULL) {\n",
        "      numbers[n] = atoi(token);\n",
        "      n++;\n",
        "      token = strtok(NULL, \" \");\n",
        "    }\n",
        "    printf(\"%d\\n\", max_pairwise_product(numbers, n));\n",
        "  }\n",
        "\n",
        "  fclose(f);\n",
        "  return 0;\n",
        "}"
      ],
      "metadata": {
        "id": "E5CIyqnNOob-"
      },
      "execution_count": null,
      "outputs": []
    },
    {
      "cell_type": "code",
      "source": [
        "import time\n",
        "inicio1 = time.time()\n",
        "main('input1.txt')\n",
        "fin1 = time.time()\n",
        "print(\"Time input 1: \", fin1 - inicio1, \"segundos\")\n",
        "inicio2 = time.time()\n",
        "main('input2.txt')\n",
        "fin2 = time.time()\n",
        "print(\"Time input 2: \", fin2 - inicio2, \"segundos\")"
      ],
      "metadata": {
        "colab": {
          "base_uri": "https://localhost:8080/"
        },
        "id": "PGZBTli_oNRg",
        "outputId": "24f637bc-b8ad-4dfe-bd5c-7a215b805cfc"
      },
      "execution_count": null,
      "outputs": [
        {
          "output_type": "stream",
          "name": "stdout",
          "text": [
            "90\n",
            "Time input 1:  0.001043558120727539 segundos\n",
            "40000000000\n",
            "Time input 2:  0.0020487308502197266 segundos\n"
          ]
        }
      ]
    },
    {
      "cell_type": "markdown",
      "metadata": {
        "id": "PRX51wADNR8b"
      },
      "source": [
        "Test and time it with input 3"
      ]
    },
    {
      "cell_type": "code",
      "source": [
        "import time\n",
        "with open(\"input3.txt\", \"w\") as fil:\n",
        "    fil.write(\"200000\\n\")\n",
        "    for i in range(1, 200001):\n",
        "        fil.write(str(i) + \" \")\n",
        "inicio = time.time()\n",
        "main('input3.txt')\n",
        "fin = time.time()\n",
        "print(\"Time: \", fin - inicio, \"segundos\")"
      ],
      "metadata": {
        "colab": {
          "base_uri": "https://localhost:8080/"
        },
        "id": "lAA0tXVfcPxR",
        "outputId": "969aa917-988a-4a66-b8ab-776eb9d31e10"
      },
      "execution_count": null,
      "outputs": [
        {
          "output_type": "stream",
          "name": "stdout",
          "text": [
            "39999800000\n",
            "Time:  0.07573723793029785 segundos\n"
          ]
        }
      ]
    },
    {
      "cell_type": "markdown",
      "metadata": {
        "id": "rpdfs0_TNZJf"
      },
      "source": [
        "20 stress tests"
      ]
    },
    {
      "cell_type": "code",
      "source": [
        "import random\n",
        "def brute_force_max_pairwise_product(numbers):\n",
        "  n = len(numbers)\n",
        "  max_product = 0\n",
        "  for first in range(n):\n",
        "    for second in range(first + 1, n):\n",
        "      max_product = max(max_product,\n",
        "        numbers[first] * numbers[second])\n",
        "  return max_product\n",
        "def stress_test(N, M):\n",
        "    count = 0\n",
        "    while count < 20:\n",
        "        n = random.randint(2, N)\n",
        "        A = [random.randint(0, M) for i in range(n)]\n",
        "        print(A)\n",
        "        result1 = brute_force_max_pairwise_product(A)\n",
        "        result2 = max_pairwise_product(A)\n",
        "        if result1 == result2:\n",
        "            print(\"OK\")\n",
        "        else:\n",
        "            print(\"Wrong answer:\", result1, result2)\n",
        "            return\n",
        "        count += 1\n",
        "stress_test(10, 1000000)"
      ],
      "metadata": {
        "colab": {
          "base_uri": "https://localhost:8080/"
        },
        "id": "Vpx-XaFzJgEI",
        "outputId": "2ecbbd64-8ce7-4e01-a68e-b6e8d4bd1542"
      },
      "execution_count": null,
      "outputs": [
        {
          "output_type": "stream",
          "name": "stdout",
          "text": [
            "[785674, 555426, 217817]\n",
            "OK\n",
            "[441349, 754834, 666885, 136954, 763983]\n",
            "OK\n",
            "[39452, 784168, 316009, 651828, 255189, 908183, 980482, 128919]\n",
            "OK\n",
            "[436004, 29870, 687783, 442223, 721880, 852166, 485027, 729340, 484232]\n",
            "OK\n",
            "[206991, 929987, 58370, 419909]\n",
            "OK\n",
            "[761550, 243988, 60588, 566048, 31201, 483222, 933165, 400029]\n",
            "OK\n",
            "[570201, 595028, 15771]\n",
            "OK\n",
            "[520421, 341419, 150779, 377635, 216687, 188539, 425624, 983169, 776358]\n",
            "OK\n",
            "[984700, 272717, 348557, 557607, 47973, 815019]\n",
            "OK\n",
            "[851600, 801034, 535599, 687961]\n",
            "OK\n",
            "[275283, 201133, 85585, 818264, 230931, 719096, 27614, 282504]\n",
            "OK\n",
            "[622260, 889744, 662509]\n",
            "OK\n",
            "[831655, 974831, 551178]\n",
            "OK\n",
            "[292306, 714996, 131752, 591172, 817392, 655837, 671025, 880423, 380170, 981971]\n",
            "OK\n",
            "[792029, 815870, 915502, 200651, 296989, 434135, 126991, 993258, 922023]\n",
            "OK\n",
            "[273239, 189029, 565816, 942464]\n",
            "OK\n",
            "[610345, 72185, 491748, 759539, 925975, 315741, 728881, 997864]\n",
            "OK\n",
            "[166117, 711090]\n",
            "OK\n",
            "[958049, 903226, 846308, 400285, 276047, 129647, 79978, 511085]\n",
            "OK\n",
            "[897826, 133265]\n",
            "OK\n"
          ]
        }
      ]
    },
    {
      "cell_type": "code",
      "source": [
        "#include <stdio.h>\n",
        "#include <stdlib.h>\n",
        "#include <time.h>\n",
        "\n",
        "int brute_force_max_pairwise_product(int* numbers, int n) {\n",
        "  int max_product = 0;\n",
        "  for (int first = 0; first < n; first++) {\n",
        "    for (int second = first + 1; second < n; second++) {\n",
        "      int product = numbers[first] * numbers[second];\n",
        "      if (product > max_product) {\n",
        "        max_product = product;\n",
        "      }\n",
        "    }\n",
        "  }\n",
        "  return max_product;\n",
        "}\n",
        "\n",
        "void stress_test(int N, int M) {\n",
        "  srand(time(NULL)); // Inicializar la semilla del generador de números aleatorios\n",
        "  int count = 0;\n",
        "  while (count < 20) {\n",
        "    int n = rand() % (N - 1) + 2; // Generar un número aleatorio entre 2 y N\n",
        "    int* A = malloc(sizeof(int) * n); // Asignar memoria para la lista de enteros\n",
        "    for (int i = 0; i < n; i++) {\n",
        "      A[i] = rand() % (M + 1); // Generar un número aleatorio entre 0 y M\n",
        "    }\n",
        "    printf(\"[\");\n",
        "    for (int i = 0; i < n; i++) {\n",
        "      printf(\"%d\", A[i]);\n",
        "      if (i < n - 1) {\n",
        "        printf(\", \");\n",
        "      }\n",
        "    }\n",
        "    printf(\"]\\n\");\n",
        "    int result1 = brute_force_max_pairwise_product(A, n);\n",
        "    int result2 = max_pairwise_product(A, n);\n",
        "    if (result1 == result2) {\n",
        "      printf(\"OK\\n\");\n",
        "    } else {\n",
        "      printf(\"Wrong answer: %d %d\\n\", result1, result2);\n",
        "      free(A);\n",
        "      return;\n",
        "    }\n",
        "    free(A);\n",
        "    count++;\n",
        "  }\n",
        "}\n",
        "\n",
        "int main() {\n",
        "  stress_test(10, 1000000);\n",
        "  return 0;\n",
        "}\n"
      ],
      "metadata": {
        "id": "hvyaz9CDQe-1"
      },
      "execution_count": null,
      "outputs": []
    },
    {
      "cell_type": "markdown",
      "metadata": {
        "id": "L8U4151JNbxk"
      },
      "source": [
        "Count executed instructions in code and verify with inputs 1,2 and 3\n"
      ]
    },
    {
      "cell_type": "code",
      "metadata": {
        "id": "dh85RM8vNhFz",
        "colab": {
          "base_uri": "https://localhost:8080/"
        },
        "outputId": "b2a72875-124b-4b11-faa8-3814cb0d31fb"
      },
      "source": [
        "def main_2(file):\n",
        "  with open(file, 'r') as f:\n",
        "    lineas = [linea.split() for linea in f]\n",
        "  return len(lineas[1])\n",
        "def num_instrucciones(n):\n",
        "    return 4*n + 5\n",
        "\n",
        "a = main_2('input1.txt')\n",
        "num_instrucciones_input1 = num_instrucciones(a)\n",
        "print(num_instrucciones_input1)\n",
        "b = main_2('input2.txt')\n",
        "num_instrucciones_input2 = num_instrucciones(b)\n",
        "print(num_instrucciones_input2)\n",
        "c = main_2('input3.txt')\n",
        "num_instrucciones_input3 = num_instrucciones(c)\n",
        "print(num_instrucciones_input3)"
      ],
      "execution_count": null,
      "outputs": [
        {
          "output_type": "stream",
          "name": "stdout",
          "text": [
            "45\n",
            "29\n",
            "800005\n"
          ]
        }
      ]
    },
    {
      "cell_type": "code",
      "source": [
        "#include <stdio.h>\n",
        "#include <stdlib.h>\n",
        "\n",
        "int main_2(char* file) {\n",
        "  FILE *f = fopen(file, \"r\"); // Abrir el archivo de entrada en modo lectura\n",
        "  if (f == NULL) {\n",
        "    printf(\"Error al abrir el archivo de entrada\\n\"); // Imprimir mensaje de error si el archivo no se puede abrir\n",
        "    return -1;\n",
        "  }\n",
        "  char buffer[100]; // Buffer para leer las líneas del archivo\n",
        "  fgets(buffer, 100, f); // Leer la primera línea del archivo y descartarla\n",
        "  fgets(buffer, 100, f); // Leer la segunda línea del archivo\n",
        "  char* token = strtok(buffer, \" \"); // Separar la línea en tokens (números)\n",
        "  int n = 0;\n",
        "  while (token != NULL) { // Iterar sobre los tokens (números)\n",
        "    n++; // Incrementar el número de números en la línea\n",
        "    token = strtok(NULL, \" \"); // Obtener el siguiente token\n",
        "  }\n",
        "  fclose(f); // Cerrar el archivo de entrada\n",
        "  return n;\n",
        "}\n",
        "\n",
        "int num_instrucciones(int n) {\n",
        "  return 4 * n + 5;\n",
        "}\n",
        "\n",
        "int main() {\n",
        "  int a = main_2(\"input1.txt\");\n",
        "  int num_instrucciones_input1 = num_instrucciones(a);\n",
        "  printf(\"%d\\n\", num_instrucciones_input1);\n",
        "  int b = main_2(\"input2.txt\");\n",
        "  int num_instrucciones_input2 = num_instrucciones(b);\n",
        "  printf(\"%d\\n\", num_instrucciones_input2);\n",
        "  int c = main_2(\"input3.txt\");\n",
        "  int num_instrucciones_input3 = num_instrucciones(c);\n",
        "  printf(\"%d\\n\", num_instrucciones_input3);\n",
        "  return 0;\n",
        "}\n"
      ],
      "metadata": {
        "id": "eycELyNAQoH4"
      },
      "execution_count": null,
      "outputs": []
    },
    {
      "cell_type": "markdown",
      "metadata": {
        "id": "K6ybgCmpNygr"
      },
      "source": [
        "Calculate estimated time by instruction and number of instructions by second"
      ]
    },
    {
      "cell_type": "code",
      "metadata": {
        "id": "kwe3G1O3Nz1w",
        "colab": {
          "base_uri": "https://localhost:8080/"
        },
        "outputId": "ec7a6118-75ae-4ea3-cab7-073556a7430d"
      },
      "source": [
        "instrucciones_por_segundo = 45/0.001043558120727539\n",
        "tiempo_por_instruccion = 1/instrucciones_por_segundo\n",
        "print(\"Instrucciones por segundo para input 1:\",instrucciones_por_segundo)\n",
        "print(\"Tiempo por cada instruccion para input 1:\",tiempo_por_instruccion)"
      ],
      "execution_count": null,
      "outputs": [
        {
          "output_type": "stream",
          "name": "stdout",
          "text": [
            "Instrucciones por segundo para input 1: 43121.69979437971\n",
            "Tiempo por cada instruccion para input 1: 2.319018046061198e-05\n"
          ]
        }
      ]
    },
    {
      "cell_type": "code",
      "source": [
        "instrucciones_por_segundo = 29/0.0020487308502197266\n",
        "tiempo_por_instruccion = 1/instrucciones_por_segundo\n",
        "print(\"Instrucciones por segundo para input 2:\",instrucciones_por_segundo)\n",
        "print(\"Tiempo por cada instruccion para input 2:\",tiempo_por_instruccion)"
      ],
      "metadata": {
        "colab": {
          "base_uri": "https://localhost:8080/"
        },
        "id": "x9Nyt_TloMYp",
        "outputId": "6d5a9ccf-18bf-4944-ba82-a6016e64949a"
      },
      "execution_count": null,
      "outputs": [
        {
          "output_type": "stream",
          "name": "stdout",
          "text": [
            "Instrucciones por segundo para input 2: 14155.104852787152\n",
            "Tiempo por cada instruccion para input 2: 7.064589138688713e-05\n"
          ]
        }
      ]
    },
    {
      "cell_type": "code",
      "source": [
        "instrucciones_por_segundo = 800005/0.08369064331054688\n",
        "tiempo_por_instruccion = 1/instrucciones_por_segundo\n",
        "print(\"Instrucciones por segundo para input 3:\",instrucciones_por_segundo)\n",
        "print(\"Tiempo por cada instruccion para input 3:\",tiempo_por_instruccion)"
      ],
      "metadata": {
        "colab": {
          "base_uri": "https://localhost:8080/"
        },
        "id": "htkXskwdoXir",
        "outputId": "f6d332d8-1800-4670-95b9-d473701ce491"
      },
      "execution_count": null,
      "outputs": [
        {
          "output_type": "stream",
          "name": "stdout",
          "text": [
            "Instrucciones por segundo para input 3: 9559073.372532932\n",
            "Tiempo por cada instruccion para input 3: 1.0461265030911917e-07\n"
          ]
        }
      ]
    },
    {
      "cell_type": "markdown",
      "metadata": {
        "id": "sc9nOLQrfTm0"
      },
      "source": [
        "### Super efficient solution\n",
        "\n",
        "Whitout storing the list in memory and whitout calling a function, add in each line a coment with the number of intstrcution that are executed in that line"
      ]
    },
    {
      "cell_type": "code",
      "metadata": {
        "id": "hBLt_xBQLy8E"
      },
      "source": [
        "%load_ext Cython"
      ],
      "execution_count": null,
      "outputs": []
    },
    {
      "cell_type": "code",
      "source": [
        "def py_read_file(filename):\n",
        "    with open(filename, \"r\") as f:\n",
        "        return f.read()"
      ],
      "metadata": {
        "id": "HmLaJaP9aoZz"
      },
      "execution_count": null,
      "outputs": []
    },
    {
      "cell_type": "markdown",
      "metadata": {
        "id": "683gc3roHqzb"
      },
      "source": [
        "Test with inputs 1 and 2\n",
        "\n",
        "\n",
        ""
      ]
    },
    {
      "cell_type": "code",
      "metadata": {
        "id": "b7d4LA8OIc2_",
        "colab": {
          "base_uri": "https://localhost:8080/"
        },
        "outputId": "34235dba-aad6-4b6b-97fd-1de038728f76"
      },
      "source": [
        "if __name__ == '__main__':\n",
        "    # Leer el archivo de entrada\n",
        "    with open(\"input1.txt\", \"r\") as f:\n",
        "        contenido = f.read().strip().split() #O(1)\n",
        "\n",
        "    # Convertir el primer elemento en entero\n",
        "    n = int(contenido[0]) #O(1)\n",
        "\n",
        "    # Convertir el resto de los elementos en una lista de enteros\n",
        "    mapeado = [int(x) for x in contenido[1:]] #O(N)\n",
        "\n",
        "    # Inicializar los máximos\n",
        "    maximo1 = maximo2 = -1 #O(1)\n",
        "\n",
        "    # Encontrar los dos máximos\n",
        "    for numero_actual in mapeado: #O(N)\n",
        "        if numero_actual > maximo1: #O(N)\n",
        "            maximo2 = maximo1 #O(n)\n",
        "            maximo1 = numero_actual #O(n)\n",
        "        elif numero_actual > maximo2: #O(N)\n",
        "            maximo2 = numero_actual #O(n)\n",
        "\n",
        "    # Imprimir el producto de los dos máximos\n",
        "    print('Input 1: ', maximo1 * maximo2) #O(1)\n"
      ],
      "execution_count": null,
      "outputs": [
        {
          "output_type": "stream",
          "name": "stdout",
          "text": [
            "Input 1:  90\n"
          ]
        }
      ]
    },
    {
      "cell_type": "code",
      "source": [
        "#include <stdio.h>\n",
        "#include <stdlib.h>\n",
        "\n",
        "int main() {\n",
        "    // Leer el archivo de entrada\n",
        "    FILE *f = fopen(\"input1.txt\", \"r\");\n",
        "    char* contenido = NULL;\n",
        "    size_t len = 0;\n",
        "    ssize_t read;\n",
        "    if (f) {\n",
        "        read = getline(&contenido, &len, f);\n",
        "        fclose(f);\n",
        "    }\n",
        "\n",
        "    // Convertir el primer elemento en entero\n",
        "    int n = atoi(contenido);\n",
        "\n",
        "    // Convertir el resto de los elementos en una lista de enteros\n",
        "    int* mapeado = malloc(sizeof(int) * (n - 1));\n",
        "    char* token = strtok(contenido, \" \");\n",
        "    for (int i = 0; i < n-1; i++) {\n",
        "        token = strtok(NULL, \" \");\n",
        "        mapeado[i] = atoi(token);\n",
        "    }\n",
        "\n",
        "    // Inicializar los máximos\n",
        "    int maximo1 = -1;\n",
        "    int maximo2 = -1;\n",
        "\n",
        "    // Encontrar los dos máximos\n",
        "    for (int i = 0; i < n-1; i++) {\n",
        "        int numero_actual = mapeado[i];\n",
        "        if (numero_actual > maximo1) {\n",
        "            maximo2 = maximo1;\n",
        "            maximo1 = numero_actual;\n",
        "        } else if (numero_actual > maximo2) {\n",
        "            maximo2 = numero_actual;\n",
        "        }\n",
        "    }\n",
        "\n",
        "    // Imprimir el producto de los dos máximos\n",
        "    printf(\"Input 1: %d\\n\", maximo1 * maximo2);\n",
        "\n",
        "    free(mapeado);\n",
        "    return 0;\n",
        "}"
      ],
      "metadata": {
        "id": "EfLupNqa5bIc"
      },
      "execution_count": null,
      "outputs": []
    },
    {
      "cell_type": "code",
      "source": [
        "if __name__ == '__main__':\n",
        "    with open(\"input2.txt\") as f: # O(1)\n",
        "        contenido = f.read().strip().split() # O(n)\n",
        "\n",
        "    mapeado = [int(x) for x in contenido[1:]] # O(n)\n",
        "\n",
        "    maximo1 = maximo2 = -1 # O(1)\n",
        "\n",
        "    for numero_actual in mapeado: # O(n)\n",
        "        if numero_actual > maximo1: # O(1)\n",
        "            maximo2 = maximo1 # O(1)\n",
        "            maximo1 = numero_actual # O(1)\n",
        "        elif numero_actual > maximo2: # O(1)\n",
        "            maximo2 = numero_actual # O(1)\n",
        "\n",
        "    print(maximo1 * maximo2) # O(1)"
      ],
      "metadata": {
        "colab": {
          "base_uri": "https://localhost:8080/"
        },
        "id": "ZJYSsDV7a3kT",
        "outputId": "cf1f8436-0ae9-4018-ccc9-ac5367f260ff"
      },
      "execution_count": null,
      "outputs": [
        {
          "output_type": "stream",
          "name": "stdout",
          "text": [
            "40000000000\n"
          ]
        }
      ]
    },
    {
      "cell_type": "markdown",
      "metadata": {
        "id": "36Ugn1odIeJz"
      },
      "source": [
        "Test and time it with input 3"
      ]
    },
    {
      "cell_type": "code",
      "metadata": {
        "id": "jDyMbCnxHqSN",
        "colab": {
          "base_uri": "https://localhost:8080/"
        },
        "outputId": "0d14acf2-83de-44ec-bcf2-258b8a280213"
      },
      "source": [
        "if __name__ == '__main__':\n",
        "    with open(\"input3.txt\") as f:\n",
        "        scan = f.read().split()\n",
        "\n",
        "    mapeado = map(int, scan[1:]) #O(1)\n",
        "\n",
        "    maximo1 = maximo2 = -1 #O(1)\n",
        "\n",
        "    for numero_actual in mapeado: #O(n)\n",
        "        if maximo1 == -1: #O(n)\n",
        "            maximo1 = numero_actual #O(n)\n",
        "\n",
        "        elif numero_actual > maximo1: #O(n)\n",
        "            bandera = maximo1 #O(n)\n",
        "            maximo1 = numero_actual #O(n)\n",
        "            maximo2 = bandera #O(n)\n",
        "\n",
        "        elif (numero_actual == -1) or (numero_actual > maximo2): #O(n)\n",
        "            maximo2 = numero_actual #O(n)\n",
        "\n",
        "    print(maximo1*maximo2) #O(1)"
      ],
      "execution_count": null,
      "outputs": [
        {
          "output_type": "stream",
          "name": "stdout",
          "text": [
            "39999800000\n"
          ]
        }
      ]
    },
    {
      "cell_type": "markdown",
      "metadata": {
        "id": "bhqiKQG6fjKM"
      },
      "source": [
        "20 stress tests"
      ]
    },
    {
      "cell_type": "code",
      "metadata": {
        "id": "2KsiXKhALzwm",
        "colab": {
          "base_uri": "https://localhost:8080/"
        },
        "outputId": "f25ce1a3-149a-4ca6-f397-8539e7a78e2a"
      },
      "source": [
        "from random import randint\n",
        "\n",
        "if __name__ == '__main__':\n",
        "\n",
        "    for i in range(20):# O(1)\n",
        "        n = randint(2, 10)  # O(1)\n",
        "        numeros = []  # O(1)\n",
        "        maximo1 = -1  # O(1)\n",
        "        maximo2 = -1  # O(1)\n",
        "\n",
        "        for j in range(n):# O(n)\n",
        "            actual_num = randint(1, 200000)  # O(1)\n",
        "            print(actual_num, end=\" \")  # O(1)\n",
        "            numeros.append(actual_num)  # O(1)\n",
        "\n",
        "            if actual_num > maximo1:  # O(1)\n",
        "                maximo2 = maximo1  # O(1)\n",
        "                maximo1 = actual_num  # O(1)\n",
        "            elif actual_num > maximo2:  # O(1)\n",
        "                maximo2 = actual_num  # O(1)\n",
        "\n",
        "        indice_max1 = -1  # O(1)\n",
        "        for i in range(n):\n",
        "            if indice_max1 == -1 or numeros[i] > numeros[indice_max1]:  # O(n)\n",
        "                indice_max1 = i  # O(1)\n",
        "\n",
        "        indice_max2 = -1  # O(1)\n",
        "        for i in range(n):\n",
        "            if i != indice_max1 and (indice_max2 == -1 or numeros[i] > numeros[indice_max2]):  # O(n)\n",
        "                indice_max2 = i  # O(1)\n",
        "\n",
        "        res1 = numeros[indice_max1] * numeros[indice_max2]  # O(1)\n",
        "        res2 = maximo1 * maximo2  # O(1)\n",
        "\n",
        "        if res1 != res2:  # O(1)\n",
        "            print(\"Respuestas incorrectas:\", res1, res2, \"\\n\")  # O(1)\n",
        "            break  # O(1)\n",
        "        else:\n",
        "            print(\"OK \\n\")  # O(1)"
      ],
      "execution_count": null,
      "outputs": [
        {
          "output_type": "stream",
          "name": "stdout",
          "text": [
            "96682 47417 39997 129038 OK \n",
            "\n",
            "175507 83806 49642 194006 193395 52930 45047 OK \n",
            "\n",
            "174147 91334 48838 111283 44362 85263 72274 126590 OK \n",
            "\n",
            "29454 139046 142325 114716 190917 152779 109780 123218 184835 OK \n",
            "\n",
            "174437 61906 9860 129662 113783 125382 186544 OK \n",
            "\n",
            "36066 29841 161906 67147 66247 49519 75653 OK \n",
            "\n",
            "157654 178444 152598 OK \n",
            "\n",
            "149699 40259 120934 19191 124194 32087 7804 52091 37720 153704 OK \n",
            "\n",
            "196555 98838 87143 91419 162956 OK \n",
            "\n",
            "143687 140608 157071 152270 96693 171550 40677 818 37056 OK \n",
            "\n",
            "131045 121789 OK \n",
            "\n",
            "199318 43066 18913 53361 187746 101166 OK \n",
            "\n",
            "182443 138597 176239 163746 96173 40886 OK \n",
            "\n",
            "99943 141688 162443 47633 OK \n",
            "\n",
            "167936 156210 187471 175936 124084 OK \n",
            "\n",
            "56799 69116 65551 63839 90754 61461 12745 146344 OK \n",
            "\n",
            "6489 38020 12685 73675 OK \n",
            "\n",
            "187432 197098 22408 104136 198492 102177 47284 135963 25519 OK \n",
            "\n",
            "193889 47253 116673 40830 31996 56309 107768 114231 OK \n",
            "\n",
            "41970 57397 74427 159689 109779 482 71862 OK \n",
            "\n"
          ]
        }
      ]
    },
    {
      "cell_type": "markdown",
      "metadata": {
        "id": "fEXj8GHJH5p1"
      },
      "source": [
        "Count executed instructions in code and verify with inputs 1,2 and 3"
      ]
    },
    {
      "cell_type": "code",
      "metadata": {
        "id": "LF1DHjKXIAsF",
        "colab": {
          "base_uri": "https://localhost:8080/"
        },
        "outputId": "92b3df2c-68ad-4820-9fe6-02b659690152"
      },
      "source": [
        "import time\n",
        "\n",
        "if __name__ == '__main__':\n",
        "    start_time = time.time()\n",
        "    with open(\"input1.txt\", \"r\") as f:  # O(1)\n",
        "        contenido = f.read().strip().split()# O(n)\n",
        "        contador = 1\n",
        "\n",
        "    mapeado = [int(x) for x in contenido[1:]] # O(n)\n",
        "    contador += len(mapeado) + 1\n",
        "\n",
        "    maximo1 = maximo2 = -1 # O(1)\n",
        "    contador += 2\n",
        "\n",
        "    for numero_actual in mapeado:# O(n)\n",
        "        contador += 1\n",
        "\n",
        "        if numero_actual > maximo1:# O(1)\n",
        "            maximo2 = maximo1# O(1)\n",
        "            maximo1 = numero_actual# O(1)\n",
        "            contador += 4\n",
        "        elif numero_actual > maximo2:# O(1)\n",
        "            maximo2 = numero_actual# O(1)\n",
        "            contador += 2\n",
        "\n",
        "    print(maximo1 * maximo2)# O(1)\n",
        "    contador += 1\n",
        "\n",
        "    print(\"Número total de pasos input 1:\", contador)\n",
        "    print(\"Tiempo de ejecución input 1: %s segundos\" % (time.time() - start_time))"
      ],
      "execution_count": null,
      "outputs": [
        {
          "output_type": "stream",
          "name": "stdout",
          "text": [
            "90\n",
            "Número total de pasos input 1: 65\n",
            "Tiempo de ejecución input 1: 0.0014195442199707031 segundos\n"
          ]
        }
      ]
    },
    {
      "cell_type": "code",
      "source": [
        "import time\n",
        "\n",
        "if __name__ == '__main__':\n",
        "    start_time = time.time()\n",
        "    steps = 0\n",
        "\n",
        "    with open(\"input2.txt\") as f: # O(1)\n",
        "        contenido = f.read().strip().split() # O(n)\n",
        "        steps += 1 + len(contenido)\n",
        "\n",
        "    mapeado = [int(x) for x in contenido[1:]] # O(n)\n",
        "    steps += len(mapeado)\n",
        "\n",
        "    maximo1 = maximo2 = -1 # O(1)\n",
        "    steps += 3\n",
        "\n",
        "    for numero_actual in mapeado: # O(n)\n",
        "        steps += 1\n",
        "\n",
        "        if numero_actual > maximo1: # O(1)\n",
        "            maximo2 = maximo1 # O(1)\n",
        "            maximo1 = numero_actual # O(1)\n",
        "            steps += 3\n",
        "        elif numero_actual > maximo2: # O(1)\n",
        "            maximo2 = numero_actual # O(1)\n",
        "            steps += 2\n",
        "\n",
        "    print(maximo1 * maximo2) # O(1)\n",
        "    steps += 1\n",
        "\n",
        "    print(\"Número de pasos input 2:\", steps)\n",
        "    print(\"Tiempo de ejecución input 2: %s segundos\" % (time.time() - start_time))"
      ],
      "metadata": {
        "colab": {
          "base_uri": "https://localhost:8080/"
        },
        "id": "vS3RPJd4pFWM",
        "outputId": "ee7b5a03-89a0-4900-fa96-8a433a11959c"
      },
      "execution_count": null,
      "outputs": [
        {
          "output_type": "stream",
          "name": "stdout",
          "text": [
            "40000000000\n",
            "Número de pasos input 2: 37\n",
            "Tiempo de ejecución input 2: 0.004892826080322266 segundos\n"
          ]
        }
      ]
    },
    {
      "cell_type": "code",
      "source": [
        "import time\n",
        "\n",
        "if __name__ == '__main__':\n",
        "    start_time = time.time()\n",
        "    steps = 0\n",
        "\n",
        "    with open(\"input3.txt\") as f: # O(1)\n",
        "        contenido = f.read().strip().split() # O(n)\n",
        "        steps += 1 + len(contenido)\n",
        "\n",
        "    mapeado = [int(x) for x in contenido[1:]] # O(n)\n",
        "    steps += len(mapeado)\n",
        "\n",
        "    maximo1 = maximo2 = -1 # O(1)\n",
        "    steps += 2\n",
        "\n",
        "    for numero_actual in mapeado: # O(n)\n",
        "        steps += 1\n",
        "\n",
        "        if maximo1 == -1: # O(1)\n",
        "            maximo1 = numero_actual\n",
        "            steps += 1\n",
        "\n",
        "        elif numero_actual > maximo1: # O(1)\n",
        "            bandera = maximo1 # O(1)\n",
        "            maximo1 = numero_actual # O(1)\n",
        "            maximo2 = bandera # O(1)\n",
        "            steps += 4\n",
        "\n",
        "        elif (numero_actual == -1) or (numero_actual > maximo2): # O(1)\n",
        "            maximo2 = numero_actual # O(1)\n",
        "            steps += 2\n",
        "\n",
        "    print(maximo1*maximo2) # O(1)\n",
        "    steps += 1\n",
        "\n",
        "    print(\"Número de pasos input 3:\", steps)\n",
        "    print(\"Tiempo de ejecución input 3: %s segundos\" % (time.time() - start_time))"
      ],
      "metadata": {
        "colab": {
          "base_uri": "https://localhost:8080/"
        },
        "id": "dUkfTKVjpMGF",
        "outputId": "fb901dd1-0d53-4d41-fb0a-a4060f4ee3a4"
      },
      "execution_count": null,
      "outputs": [
        {
          "output_type": "stream",
          "name": "stdout",
          "text": [
            "39999800000\n",
            "Número de pasos input 3: 1400002\n",
            "Tiempo de ejecución input 3: 0.125901460647583 segundos\n"
          ]
        }
      ]
    },
    {
      "cell_type": "markdown",
      "metadata": {
        "id": "yae7sSm2IG9U"
      },
      "source": [
        "Calculate estimated time by instruction and number of instructions by second"
      ]
    },
    {
      "cell_type": "code",
      "metadata": {
        "id": "suouY7BYL2dz",
        "colab": {
          "base_uri": "https://localhost:8080/"
        },
        "outputId": "f8d6e30b-d754-4700-eb0f-40a6c3f737e7"
      },
      "source": [
        "instrucciones_por_segundo = 65/0.005961894989013672\n",
        "tiempo_por_instruccion = 1 / instrucciones_por_segundo\n",
        "\n",
        "print(\"Instrucciones por segundo input 1:\",instrucciones_por_segundo)\n",
        "print(\"Tiempo por cada instruccion input 1:\",tiempo_por_instruccion)"
      ],
      "execution_count": null,
      "outputs": [
        {
          "output_type": "stream",
          "name": "stdout",
          "text": [
            "Instrucciones por segundo input 1: 10902.57378229225\n",
            "Tiempo por cada instruccion input 1: 9.172146136944112e-05\n"
          ]
        }
      ]
    },
    {
      "cell_type": "code",
      "source": [
        "instrucciones_por_segundo = 37/0.0019478797912597656\n",
        "tiempo_por_instruccion = 1 / instrucciones_por_segundo\n",
        "\n",
        "print(\"Instrucciones por segundo input 2:\",instrucciones_por_segundo)\n",
        "print(\"Tiempo por cada instruccion input 2:\",tiempo_por_instruccion)"
      ],
      "metadata": {
        "colab": {
          "base_uri": "https://localhost:8080/"
        },
        "id": "SakW2nwvpmTr",
        "outputId": "0f38354b-06e2-451a-fa43-d2603c8337d5"
      },
      "execution_count": null,
      "outputs": [
        {
          "output_type": "stream",
          "name": "stdout",
          "text": [
            "Instrucciones por segundo input 2: 18995.01199510404\n",
            "Tiempo por cada instruccion input 2: 5.264539976377745e-05\n"
          ]
        }
      ]
    },
    {
      "cell_type": "code",
      "source": [
        "instrucciones_por_segundo = 1400002/0.14876842498779297\n",
        "tiempo_por_instruccion = 1 / instrucciones_por_segundo\n",
        "\n",
        "print(\"Instrucciones por segundo input 3:\",instrucciones_por_segundo)\n",
        "print(\"Tiempo por cada instruccion input 3:\",tiempo_por_instruccion)"
      ],
      "metadata": {
        "colab": {
          "base_uri": "https://localhost:8080/"
        },
        "id": "ASaFqvu2psqr",
        "outputId": "3531e34d-f096-4cc8-9a75-ecebe115e81d"
      },
      "execution_count": null,
      "outputs": [
        {
          "output_type": "stream",
          "name": "stdout",
          "text": [
            "Instrucciones por segundo input 3: 9410612.501375044\n",
            "Tiempo por cada instruccion input 3: 1.0626300890126798e-07\n"
          ]
        }
      ]
    },
    {
      "cell_type": "code",
      "source": [
        "t = int(input())  # read the number of test cases\n",
        "\n",
        "for _ in range(t):  # iterate over each test case\n",
        "    s = input().strip()  # read the string and remove any leading/trailing whitespaces\n",
        "    n = len(s)  # find the length of the string\n",
        "\n",
        "    if n % 2 != 0:  # if the length is odd, the string cannot be square\n",
        "        print(\"NO\")\n",
        "    else:\n",
        "        half = n // 2  # find the midpoint of the string\n",
        "        if s[:half] == s[half:]:  # check if the first half of the string is the same as the second half\n",
        "            print(\"YES\")\n",
        "        else:\n",
        "            print(\"NO\")"
      ],
      "metadata": {
        "id": "iPERhSAxwTm1",
        "outputId": "a56d173d-6357-4617-a21e-01fd02fcb3c7",
        "colab": {
          "base_uri": "https://localhost:8080/"
        }
      },
      "execution_count": null,
      "outputs": [
        {
          "output_type": "stream",
          "name": "stdout",
          "text": [
            "10\n",
            "a\n",
            "NO\n",
            "aa\n",
            "YES\n",
            "aaa\n",
            "NO\n",
            "aaaa\n",
            "YES\n",
            "abab\n",
            "YES\n",
            "abcabc\n",
            "YES\n",
            "abacaba\n",
            "NO\n",
            "xxyy\n",
            "NO\n",
            "xyyx\n",
            "NO\n",
            "xyxy\n",
            "YES\n"
          ]
        }
      ]
    }
  ]
}